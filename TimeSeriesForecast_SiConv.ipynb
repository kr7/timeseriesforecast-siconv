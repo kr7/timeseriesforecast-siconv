{
  "cells": [
    {
      "cell_type": "markdown",
      "metadata": {
        "id": "view-in-github",
        "colab_type": "text"
      },
      "source": [
        "<a href=\"https://colab.research.google.com/github/kr7/timeseriesforecast-siconv/blob/main/TimeSeriesForecast_SiConv.ipynb\" target=\"_parent\"><img src=\"https://colab.research.google.com/assets/colab-badge.svg\" alt=\"Open In Colab\"/></a>"
      ]
    },
    {
      "cell_type": "code",
      "execution_count": null,
      "metadata": {
        "id": "l2lBoMKFC8QW"
      },
      "outputs": [],
      "source": [
        "import numpy as np \n",
        "import random\n",
        "import scipy\n",
        "import torch\n",
        "import torch.nn as nn\n",
        "import torch.optim as optim\n",
        "import torch.nn.functional as F\n",
        "\n",
        "from numpy import genfromtxt\n",
        "from sklearn.model_selection import KFold"
      ]
    },
    {
      "cell_type": "markdown",
      "metadata": {
        "id": "MeLYk4fbHQMz"
      },
      "source": [
        "# Parameters"
      ]
    },
    {
      "cell_type": "code",
      "execution_count": null,
      "metadata": {
        "id": "D3qBbUD9DBSo"
      },
      "outputs": [],
      "source": [
        "FORECAST_HORIZON = 16\n",
        "SPARSITY = 0.8 # SPARSITY=0.8 means that 80% of the values of the time series will be replaced by zeros (i.e., missing values)"
      ]
    },
    {
      "cell_type": "markdown",
      "metadata": {
        "id": "KX9e9x8dHWNa"
      },
      "source": [
        "## Load the data"
      ]
    },
    {
      "cell_type": "code",
      "execution_count": null,
      "metadata": {
        "id": "A9tdZox5DG2H"
      },
      "outputs": [],
      "source": [
        "!wget http://www.timeseriesclassification.com/Downloads/Archives/Univariate2018_arff.zip"
      ]
    },
    {
      "cell_type": "code",
      "execution_count": null,
      "metadata": {
        "id": "YXbb2pEODNPe"
      },
      "outputs": [],
      "source": [
        "!unzip Univariate2018_arff.zip"
      ]
    },
    {
      "cell_type": "code",
      "execution_count": null,
      "metadata": {
        "id": "NVaYGB7cDVPk"
      },
      "outputs": [],
      "source": [
        "# Change here to run experiments on other datasets\n",
        "file_name_prefix = \"Univariate_arff/Adiac/Adiac\""
      ]
    },
    {
      "cell_type": "code",
      "execution_count": null,
      "metadata": {
        "id": "Qsa9unoe3BQM"
      },
      "outputs": [],
      "source": [
        "def sparsify_time_series(time_series, p):\n",
        "  number_of_missing = int(p*len(time_series))\n",
        "  for i in range(number_of_missing):\n",
        "    j = random.randint(0,len(time_series)-1)\n",
        "    while time_series[j] == 0:\n",
        "      j = random.randint(0,len(time_series)-1)\n",
        "    time_series[j] = 0\n",
        "  return time_series\n",
        "\n",
        "def sparsify_time_series_dataset(ts_data, p):\n",
        "  for i in range(len(ts_data)):\n",
        "    ts_data[i] = sparsify_time_series(ts_data[i], p)\n",
        "  return ts_data"
      ]
    },
    {
      "cell_type": "code",
      "execution_count": null,
      "metadata": {
        "id": "wPLwXi4wDguq"
      },
      "outputs": [],
      "source": [
        "# In order to perform 10-fold cross-validation, we\n",
        "# will merge the provided train and test splits and \n",
        "# we will split the data durign the cross-validation\n",
        "\n",
        "train_data_with_class_labels = np.genfromtxt(file_name_prefix+'_TRAIN.txt')\n",
        "test_data_with_class_labels = np.genfromtxt(file_name_prefix+'_TEST.txt')\n",
        "\n",
        "data_with_class_labels = np.vstack( (train_data_with_class_labels, \n",
        "                                     test_data_with_class_labels))\n",
        "data_without_class_labels = data_with_class_labels[:,1:]\n",
        "data_without_class_labels = sparsify_time_series_dataset(data_without_class_labels, SPARSITY)\n",
        "input_data = data_without_class_labels[:,:-FORECAST_HORIZON]\n",
        "target = data_without_class_labels[:,-FORECAST_HORIZON:]\n",
        "\n",
        "# We make sure that the length of the time series is a multiple of 4 \n",
        "\n",
        "NUM_INPUT_FEATURES = len(input_data[0]) \n",
        "values_to_cut = NUM_INPUT_FEATURES % 4\n",
        "if values_to_cut != 0:\n",
        "    input_data = input_data[:,values_to_cut:]\n",
        "    NUM_INPUT_FEATURES = NUM_INPUT_FEATURES - values_to_cut"
      ]
    },
    {
      "cell_type": "markdown",
      "metadata": {
        "id": "gcHoJKoDHfVS"
      },
      "source": [
        "## Sparsity-invariant convolution and sparsity-aware MSE loss"
      ]
    },
    {
      "cell_type": "code",
      "execution_count": null,
      "metadata": {
        "id": "0x4cuHaZdeZG"
      },
      "outputs": [],
      "source": [
        "class SparseConvolution(nn.Module):\n",
        "    def __init__(self, in_channels, out_channels, kernel_size, stride, padding):\n",
        "        super(SparseConvolution, self).__init__()\n",
        "        self.stride = stride\n",
        "        self.padding = padding\n",
        "        self.conv = nn.Conv1d(in_channels=in_channels, out_channels=out_channels, \n",
        "                              kernel_size=kernel_size, stride=stride, padding=padding)\n",
        "        self.ones = torch.ones(out_channels, in_channels, kernel_size).cuda()\n",
        "\n",
        "    def forward(self, x):\n",
        "      non_zero_input = (x!=0).float()\n",
        "      number_of_non_zero_inputs = F.conv1d(non_zero_input, self.ones, stride=self.stride, padding=self.padding)\n",
        "      mask = (number_of_non_zero_inputs!=0)\n",
        "      \n",
        "      x = self.conv(x)\n",
        "      x[mask] = x[mask]/number_of_non_zero_inputs[mask]\n",
        "      return x\n",
        "\n",
        "class SparseMSELoss(nn.Module):\n",
        "    def __init__(self):\n",
        "        super(SparseMSELoss, self).__init__()\n",
        "\n",
        "    def forward(self, pred, target):\n",
        "        epsilon = 1e-5\n",
        "        mask = (target != 0)\n",
        "        return torch.sum(((mask*pred)-target)**2)/(torch.sum(mask)+epsilon)"
      ]
    },
    {
      "cell_type": "markdown",
      "metadata": {
        "id": "zIQ4patJHw9j"
      },
      "source": [
        "# The model"
      ]
    },
    {
      "cell_type": "code",
      "execution_count": null,
      "metadata": {
        "id": "WtdkZco4D52C"
      },
      "outputs": [],
      "source": [
        "# Definition of the neural networks\n",
        "\n",
        "CONV_FILTERS = 25\n",
        "CONV_FILTER_SIZE = 9\n",
        "\n",
        "\n",
        "class CNN(nn.Module):\n",
        "    def __init__(self, convolution_type='conventional'):\n",
        "        super(CNN, self).__init__()\n",
        "        num_units_fc = 100\n",
        "        self.num_inputs_fc = int(CONV_FILTERS*(NUM_INPUT_FEATURES-CONV_FILTER_SIZE+1)/2)\n",
        "\n",
        "        if convolution_type == 'conventional':\n",
        "          self.conv1 = nn.Conv1d(in_channels = 1, out_channels = CONV_FILTERS, \n",
        "                               kernel_size=CONV_FILTER_SIZE, padding = 0, stride = 1)\n",
        "        elif convolution_type == 'sparse':\n",
        "          self.conv1 = SparseConvolution(in_channels = 1, out_channels = CONV_FILTERS, \n",
        "                               kernel_size=CONV_FILTER_SIZE, padding = 0, stride = 1)\n",
        "        self.max_pool = nn.MaxPool1d(2)\n",
        "        self.fc = nn.Linear(self.num_inputs_fc, num_units_fc)\n",
        "        self.out = nn.Linear(num_units_fc, FORECAST_HORIZON) \n",
        "\n",
        "    def forward(self, x):\n",
        "        x = x.view(-1, 1, NUM_INPUT_FEATURES)\n",
        "        x = self.conv1(x)\n",
        "        x = self.max_pool(x)\n",
        "        x = x.view(-1, self.num_inputs_fc)\n",
        "        x = torch.relu(self.fc(x))\n",
        "        x = self.out(x)\n",
        "        return x"
      ]
    },
    {
      "cell_type": "markdown",
      "metadata": {
        "id": "AYvCNnBvH5Ef"
      },
      "source": [
        "# The function used to evaluate the network "
      ]
    },
    {
      "cell_type": "code",
      "execution_count": null,
      "metadata": {
        "id": "EwkSUnZlD9GU"
      },
      "outputs": [],
      "source": [
        "def eval_net(net, test_input, test_target):\n",
        "    test_dataset = torch.utils.data.TensorDataset( \n",
        "        torch.Tensor(test_input), \n",
        "        torch.Tensor(test_target)\n",
        "    )\n",
        "    testloader = torch.utils.data.DataLoader(test_dataset, batch_size=1)\n",
        "\n",
        "    mae = 0\n",
        "    mse = 0\n",
        "    total = 0\n",
        "\n",
        "    with torch.no_grad():\n",
        "        for inputs, true_target in testloader:\n",
        "            inputs = inputs.cuda()\n",
        "            true_target = true_target.cuda()\n",
        "            \n",
        "            predicted_target = net(inputs).cpu().numpy()\n",
        "            true_target = true_target.cpu().numpy()\n",
        "            \n",
        "            mask = (true_target!=0)\n",
        "            predicted_target = mask*predicted_target\n",
        "\n",
        "            mae += np.sum(np.abs(predicted_target - true_target))\n",
        "            mse += np.sum((predicted_target - true_target)**2)\n",
        "            total += np.sum(mask)\n",
        "\n",
        "    return mse/total, mae/total"
      ]
    },
    {
      "cell_type": "markdown",
      "metadata": {
        "id": "i-OuSRKNIAzT"
      },
      "source": [
        "# Function for linear interpolation of sparse time series "
      ]
    },
    {
      "cell_type": "code",
      "execution_count": null,
      "metadata": {
        "id": "L8_w4hmvwAQb"
      },
      "outputs": [],
      "source": [
        "def linear_interpolation(ts):\n",
        "  previous_value = 0\n",
        "  previous_index = -1\n",
        "  for i in range(len(ts)):\n",
        "    if ts[i] != 0:\n",
        "      previous_index = i\n",
        "      previous_value = ts[previous_index]\n",
        "    else:\n",
        "      next_value = 0\n",
        "      next_index = i + 1\n",
        "      while next_index < len(ts) and ts[next_index] == 0:\n",
        "        next_index = next_index+1\n",
        "      if next_index < len(ts):\n",
        "        next_value = ts[next_index]\n",
        "\n",
        "      w_next = (i-previous_index) / (next_index - previous_index)\n",
        "      w_previous = 1-w_next\n",
        "\n",
        "      ts[i] = w_next*next_value + w_previous*previous_value\n",
        "  return ts\n",
        "\n",
        "def linear_interpolation_all(ts_data):\n",
        "  interpolated_data = np.array(ts_data)\n",
        "  for i in range(len(interpolated_data)):\n",
        "    interpolated_data[i] = linear_interpolation(interpolated_data[i])\n",
        "  return interpolated_data"
      ]
    },
    {
      "cell_type": "markdown",
      "metadata": {
        "id": "aMNU03xPII5k"
      },
      "source": [
        "# The main experimental loop"
      ]
    },
    {
      "cell_type": "code",
      "execution_count": null,
      "metadata": {
        "id": "TXiOw98SETR6"
      },
      "outputs": [],
      "source": [
        "epochs = 1000\n",
        "\n",
        "mse_cnn  = []\n",
        "mse_cnn_sparse = []\n",
        "mse_cnn_linear = []\n",
        "mae_cnn  = []\n",
        "mae_cnn_sparse = []\n",
        "mae_cnn_linear = []\n",
        "\n",
        "kf = KFold(n_splits=10, random_state=42, shuffle=True)\n",
        "\n",
        "fold = 0\n",
        "for train_index, test_index in kf.split(input_data):\n",
        "    fold = fold + 1\n",
        "\n",
        "    train_data = input_data[train_index]\n",
        "    train_target = target[train_index]\n",
        "    test_data = input_data[test_index]\n",
        "    test_target = target[test_index]\n",
        "\n",
        "    # Training of CNN. This is simultaneously the initial stage of training of the DCNN.\n",
        "\n",
        "    train_dataset = torch.utils.data.TensorDataset(\n",
        "      torch.Tensor(train_data), \n",
        "      torch.Tensor(train_target) \n",
        "    )\n",
        "    trainloader = torch.utils.data.DataLoader(\n",
        "      train_dataset, shuffle=True, batch_size=16)\n",
        "\n",
        "    \n",
        "    # Train CNN with sparsity-invariant convolution\n",
        "\n",
        "    cnn_sparse = CNN(\"sparse\")\n",
        "    cnn_sparse.cuda()\n",
        "    criterion = SparseMSELoss()\n",
        "    optimizer = optim.Adam(cnn_sparse.parameters(), lr=1e-5)\n",
        "\n",
        "    running_loss = 0.0\n",
        "    running_n = 0\n",
        "\n",
        "    print(\"Training sparse CNN...\")\n",
        "\n",
        "    for epoch in range(epochs):  \n",
        "        for input_batch, target_batch in trainloader:\n",
        "            input_batch = input_batch.cuda()\n",
        "            target_batch = target_batch.cuda()\n",
        "\n",
        "            optimizer.zero_grad()\n",
        "\n",
        "            prediction_batch = cnn_sparse(input_batch) \n",
        "\n",
        "            loss = criterion(prediction_batch, target_batch)\n",
        "            loss.backward()\n",
        "            optimizer.step()\n",
        "\n",
        "            running_loss += loss.item()\n",
        "            running_n = running_n + 1\n",
        "\n",
        "        if epoch % 100 == 0:\n",
        "            print(\"epoch: {:3d} loss: {:4.3f}\".format(epoch, running_loss/running_n))\n",
        "            running_loss = 0.0\n",
        "            running_n = 0\n",
        "\n",
        "    # Train baseline CNN\n",
        "    cnn = CNN()\n",
        "    cnn.cuda()\n",
        "    criterion = SparseMSELoss()\n",
        "    optimizer = optim.Adam(cnn.parameters(), lr=1e-5)\n",
        "\n",
        "    running_loss = 0.0\n",
        "    running_n = 0\n",
        "\n",
        "    print(\"Training CNN...\")\n",
        "\n",
        "    for epoch in range(epochs):  \n",
        "        for input_batch, target_batch in trainloader:\n",
        "            input_batch = input_batch.cuda()\n",
        "            target_batch = target_batch.cuda()\n",
        "\n",
        "            optimizer.zero_grad()\n",
        "\n",
        "            prediction_batch = cnn(input_batch)\n",
        "\n",
        "            loss = criterion(prediction_batch, target_batch)\n",
        "            loss.backward()\n",
        "            optimizer.step()\n",
        "\n",
        "            running_loss += loss.item()\n",
        "            running_n = running_n + 1\n",
        "\n",
        "        if epoch % 100 == 0:\n",
        "            print(\"epoch: {:3d} loss: {:4.3f}\".format(epoch, running_loss/running_n))\n",
        "            running_loss = 0.0\n",
        "            running_n = 0\n",
        "\n",
        "    # Train baseline CNN with linear interpolation\n",
        "\n",
        "    train_dataset = torch.utils.data.TensorDataset(\n",
        "      torch.Tensor(linear_interpolation_all(train_data)), \n",
        "      torch.Tensor(linear_interpolation_all(train_target)) \n",
        "    )\n",
        "    trainloader = torch.utils.data.DataLoader(\n",
        "      train_dataset, shuffle=True, batch_size=16)\n",
        "\n",
        "    cnn_linear = CNN()\n",
        "    cnn_linear.cuda()\n",
        "    criterion = SparseMSELoss()\n",
        "    optimizer = optim.Adam(cnn_linear.parameters(), lr=1e-5)\n",
        "\n",
        "    running_loss = 0.0\n",
        "    running_n = 0\n",
        "\n",
        "    print(\"Training CNN with linear interpolation...\")\n",
        "\n",
        "    for epoch in range(epochs):  \n",
        "        for input_batch, target_batch in trainloader:\n",
        "            input_batch = input_batch.cuda()\n",
        "            target_batch = target_batch.cuda()\n",
        "\n",
        "            optimizer.zero_grad()\n",
        "\n",
        "            prediction_batch = cnn_linear(input_batch)\n",
        "\n",
        "            loss = criterion(prediction_batch, target_batch)\n",
        "            loss.backward()\n",
        "            optimizer.step()\n",
        "\n",
        "            running_loss += loss.item()\n",
        "            running_n = running_n + 1\n",
        "\n",
        "        if epoch % 100 == 0:\n",
        "            print(\"epoch: {:3d} loss: {:4.3f}\".format(epoch, running_loss/running_n))\n",
        "            running_loss = 0.0\n",
        "            running_n = 0\n",
        "\n",
        "    a_mse, a_mae = eval_net(cnn, test_data, test_target)\n",
        "    mse_cnn.append(a_mse)\n",
        "    mae_cnn.append(a_mae)\n",
        "\n",
        "    a_mse_linear, a_mae_linear = eval_net(cnn_linear, test_data, test_target)\n",
        "    mse_cnn_linear.append(a_mse_linear)\n",
        "    mae_cnn_linear.append(a_mae_linear)\n",
        "\n",
        "    a_mse_sparse, a_mae_sparse = eval_net(cnn_sparse, test_data, test_target)\n",
        "    mse_cnn_sparse.append(a_mse_sparse)\n",
        "    mae_cnn_sparse.append(a_mae_sparse)\n",
        "\n",
        "    print(f\"Fold: {fold:2d}\")\n",
        "    print(f\"  MSE of CNN:    {a_mse:6.4f}\")\n",
        "    print(f\"  MSE of linCNN: {a_mse_linear:6.4f}\")\n",
        "    print(f\"  MSE of siCNN:  {a_mse_sparse:6.4f}\")\n",
        "    print(f\"  MAE of CNN:    {a_mae:6.4f}\")\n",
        "    print(f\"  MAE of linCNN: {a_mae_linear:6.4f}\")\n",
        "    print(f\"  MAE of siCNN:  {a_mae_sparse:6.4f}\")"
      ]
    },
    {
      "cell_type": "markdown",
      "metadata": {
        "id": "ilAtp_Mz18xl"
      },
      "source": [
        "# Print results, calculate p-values"
      ]
    },
    {
      "cell_type": "code",
      "execution_count": null,
      "metadata": {
        "id": "KUchWCaKEvit"
      },
      "outputs": [],
      "source": [
        "print(file_name_prefix.split('/')[-1])\n",
        "print(f\"Mean MSE CNN:    {np.mean(mse_cnn):6.4f}\")\n",
        "print(f\"Mean MSE linCNN: {np.mean(mse_cnn_linear):6.4f}\")\n",
        "print(f\"Mean MSE siCNN:  {np.mean(mse_cnn_sparse):6.4f}\")\n",
        "print(f\"Std. MSE CNN:    {np.std(mse_cnn):6.4f}\")\n",
        "print(f\"Std. MSE linCNN: {np.std(mse_cnn_linear):6.4f}\")\n",
        "print(f\"Std. MSE siCNN:  {np.std(mse_cnn_sparse):6.4f}\")\n",
        "print(f\"p-value:         {scipy.stats.ttest_rel(mse_cnn, mse_cnn_sparse)[1]:6.4f}\")\n",
        "print(f\"p-value:         {scipy.stats.ttest_rel(mse_cnn_linear, mse_cnn_sparse)[1]:6.4f}\")\n",
        "\n",
        "print(f\"Mean MAE CNN:    {np.mean(mae_cnn):6.4f}\")\n",
        "print(f\"Mean MAE linCNN: {np.mean(mae_cnn_linear):6.4f}\")\n",
        "print(f\"Mean MAE siCNN:  {np.mean(mae_cnn_sparse):6.4f}\")\n",
        "print(f\"Std. MAE CNN:    {np.std(mae_cnn):6.4f}\")\n",
        "print(f\"Std. MAE linCNN: {np.std(mae_cnn_linear):6.4f}\")\n",
        "print(f\"Std. MAE siCNN:  {np.std(mae_cnn_sparse):6.4f}\")\n",
        "print(f\"p-value:         {scipy.stats.ttest_rel(mae_cnn, mae_cnn_sparse)[1]:6.4f}\")\n",
        "print(f\"p-value:         {scipy.stats.ttest_rel(mae_cnn_linear, mae_cnn_sparse)[1]:6.4f}\")"
      ]
    },
    {
      "cell_type": "code",
      "source": [],
      "metadata": {
        "id": "oYin-vARxPIq"
      },
      "execution_count": null,
      "outputs": []
    }
  ],
  "metadata": {
    "accelerator": "GPU",
    "colab": {
      "provenance": [],
      "authorship_tag": "ABX9TyMF7BZ4yt5b2IxCWv13q2hD",
      "include_colab_link": true
    },
    "gpuClass": "standard",
    "kernelspec": {
      "display_name": "Python 3",
      "name": "python3"
    },
    "language_info": {
      "name": "python"
    }
  },
  "nbformat": 4,
  "nbformat_minor": 0
}